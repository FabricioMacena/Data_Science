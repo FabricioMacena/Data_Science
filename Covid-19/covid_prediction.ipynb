{
 "cells": [
  {
   "cell_type": "code",
   "execution_count": 1,
   "id": "b93874f3",
   "metadata": {},
   "outputs": [],
   "source": [
    "import pandas as pd\n",
    "import matplotlib.pyplot as plt\n",
    "import seaborn as sns\n",
    "import numpy as np\n",
    "from sklearn.model_selection import train_test_split\n",
    "import tensorflow as tf\n",
    "from sklearn.impute import SimpleImputer\n",
    "from imblearn.over_sampling import RandomOverSampler"
   ]
  },
  {
   "cell_type": "code",
   "execution_count": 2,
   "id": "03a1d6ce",
   "metadata": {},
   "outputs": [
    {
     "name": "stdout",
     "output_type": "stream",
     "text": [
      "(1048575, 21)\n"
     ]
    },
    {
     "data": {
      "text/html": [
       "<div>\n",
       "<style scoped>\n",
       "    .dataframe tbody tr th:only-of-type {\n",
       "        vertical-align: middle;\n",
       "    }\n",
       "\n",
       "    .dataframe tbody tr th {\n",
       "        vertical-align: top;\n",
       "    }\n",
       "\n",
       "    .dataframe thead th {\n",
       "        text-align: right;\n",
       "    }\n",
       "</style>\n",
       "<table border=\"1\" class=\"dataframe\">\n",
       "  <thead>\n",
       "    <tr style=\"text-align: right;\">\n",
       "      <th></th>\n",
       "      <th>USMER</th>\n",
       "      <th>MEDICAL_UNIT</th>\n",
       "      <th>SEX</th>\n",
       "      <th>PATIENT_TYPE</th>\n",
       "      <th>DATE_DIED</th>\n",
       "      <th>INTUBED</th>\n",
       "      <th>PNEUMONIA</th>\n",
       "      <th>AGE</th>\n",
       "      <th>PREGNANT</th>\n",
       "      <th>DIABETES</th>\n",
       "      <th>...</th>\n",
       "      <th>ASTHMA</th>\n",
       "      <th>INMSUPR</th>\n",
       "      <th>HIPERTENSION</th>\n",
       "      <th>OTHER_DISEASE</th>\n",
       "      <th>CARDIOVASCULAR</th>\n",
       "      <th>OBESITY</th>\n",
       "      <th>RENAL_CHRONIC</th>\n",
       "      <th>TOBACCO</th>\n",
       "      <th>CLASIFFICATION_FINAL</th>\n",
       "      <th>ICU</th>\n",
       "    </tr>\n",
       "  </thead>\n",
       "  <tbody>\n",
       "    <tr>\n",
       "      <th>0</th>\n",
       "      <td>2</td>\n",
       "      <td>1</td>\n",
       "      <td>1</td>\n",
       "      <td>1</td>\n",
       "      <td>03/05/2020</td>\n",
       "      <td>97</td>\n",
       "      <td>1</td>\n",
       "      <td>65</td>\n",
       "      <td>2</td>\n",
       "      <td>2</td>\n",
       "      <td>...</td>\n",
       "      <td>2</td>\n",
       "      <td>2</td>\n",
       "      <td>1</td>\n",
       "      <td>2</td>\n",
       "      <td>2</td>\n",
       "      <td>2</td>\n",
       "      <td>2</td>\n",
       "      <td>2</td>\n",
       "      <td>3</td>\n",
       "      <td>97</td>\n",
       "    </tr>\n",
       "    <tr>\n",
       "      <th>1</th>\n",
       "      <td>2</td>\n",
       "      <td>1</td>\n",
       "      <td>2</td>\n",
       "      <td>1</td>\n",
       "      <td>03/06/2020</td>\n",
       "      <td>97</td>\n",
       "      <td>1</td>\n",
       "      <td>72</td>\n",
       "      <td>97</td>\n",
       "      <td>2</td>\n",
       "      <td>...</td>\n",
       "      <td>2</td>\n",
       "      <td>2</td>\n",
       "      <td>1</td>\n",
       "      <td>2</td>\n",
       "      <td>2</td>\n",
       "      <td>1</td>\n",
       "      <td>1</td>\n",
       "      <td>2</td>\n",
       "      <td>5</td>\n",
       "      <td>97</td>\n",
       "    </tr>\n",
       "    <tr>\n",
       "      <th>2</th>\n",
       "      <td>2</td>\n",
       "      <td>1</td>\n",
       "      <td>2</td>\n",
       "      <td>2</td>\n",
       "      <td>09/06/2020</td>\n",
       "      <td>1</td>\n",
       "      <td>2</td>\n",
       "      <td>55</td>\n",
       "      <td>97</td>\n",
       "      <td>1</td>\n",
       "      <td>...</td>\n",
       "      <td>2</td>\n",
       "      <td>2</td>\n",
       "      <td>2</td>\n",
       "      <td>2</td>\n",
       "      <td>2</td>\n",
       "      <td>2</td>\n",
       "      <td>2</td>\n",
       "      <td>2</td>\n",
       "      <td>3</td>\n",
       "      <td>2</td>\n",
       "    </tr>\n",
       "    <tr>\n",
       "      <th>3</th>\n",
       "      <td>2</td>\n",
       "      <td>1</td>\n",
       "      <td>1</td>\n",
       "      <td>1</td>\n",
       "      <td>12/06/2020</td>\n",
       "      <td>97</td>\n",
       "      <td>2</td>\n",
       "      <td>53</td>\n",
       "      <td>2</td>\n",
       "      <td>2</td>\n",
       "      <td>...</td>\n",
       "      <td>2</td>\n",
       "      <td>2</td>\n",
       "      <td>2</td>\n",
       "      <td>2</td>\n",
       "      <td>2</td>\n",
       "      <td>2</td>\n",
       "      <td>2</td>\n",
       "      <td>2</td>\n",
       "      <td>7</td>\n",
       "      <td>97</td>\n",
       "    </tr>\n",
       "    <tr>\n",
       "      <th>4</th>\n",
       "      <td>2</td>\n",
       "      <td>1</td>\n",
       "      <td>2</td>\n",
       "      <td>1</td>\n",
       "      <td>21/06/2020</td>\n",
       "      <td>97</td>\n",
       "      <td>2</td>\n",
       "      <td>68</td>\n",
       "      <td>97</td>\n",
       "      <td>1</td>\n",
       "      <td>...</td>\n",
       "      <td>2</td>\n",
       "      <td>2</td>\n",
       "      <td>1</td>\n",
       "      <td>2</td>\n",
       "      <td>2</td>\n",
       "      <td>2</td>\n",
       "      <td>2</td>\n",
       "      <td>2</td>\n",
       "      <td>3</td>\n",
       "      <td>97</td>\n",
       "    </tr>\n",
       "  </tbody>\n",
       "</table>\n",
       "<p>5 rows × 21 columns</p>\n",
       "</div>"
      ],
      "text/plain": [
       "   USMER  MEDICAL_UNIT  SEX  PATIENT_TYPE   DATE_DIED  INTUBED  PNEUMONIA  \\\n",
       "0      2             1    1             1  03/05/2020       97          1   \n",
       "1      2             1    2             1  03/06/2020       97          1   \n",
       "2      2             1    2             2  09/06/2020        1          2   \n",
       "3      2             1    1             1  12/06/2020       97          2   \n",
       "4      2             1    2             1  21/06/2020       97          2   \n",
       "\n",
       "   AGE  PREGNANT  DIABETES  ...  ASTHMA  INMSUPR  HIPERTENSION  OTHER_DISEASE  \\\n",
       "0   65         2         2  ...       2        2             1              2   \n",
       "1   72        97         2  ...       2        2             1              2   \n",
       "2   55        97         1  ...       2        2             2              2   \n",
       "3   53         2         2  ...       2        2             2              2   \n",
       "4   68        97         1  ...       2        2             1              2   \n",
       "\n",
       "   CARDIOVASCULAR  OBESITY  RENAL_CHRONIC  TOBACCO  CLASIFFICATION_FINAL  ICU  \n",
       "0               2        2              2        2                     3   97  \n",
       "1               2        1              1        2                     5   97  \n",
       "2               2        2              2        2                     3    2  \n",
       "3               2        2              2        2                     7   97  \n",
       "4               2        2              2        2                     3   97  \n",
       "\n",
       "[5 rows x 21 columns]"
      ]
     },
     "execution_count": 2,
     "metadata": {},
     "output_type": "execute_result"
    }
   ],
   "source": [
    "df = pd.read_csv('covid_data.csv')\n",
    "print(df.shape)\n",
    "df.head()"
   ]
  },
  {
   "cell_type": "code",
   "execution_count": 3,
   "id": "d0070f9a",
   "metadata": {
    "scrolled": true
   },
   "outputs": [],
   "source": [
    "df.columns = [col.lower() for col in df.columns]"
   ]
  },
  {
   "cell_type": "code",
   "execution_count": 4,
   "id": "f1ace413",
   "metadata": {
    "scrolled": false
   },
   "outputs": [
    {
     "name": "stdout",
     "output_type": "stream",
     "text": [
      "<class 'pandas.core.frame.DataFrame'>\n",
      "RangeIndex: 1048575 entries, 0 to 1048574\n",
      "Data columns (total 21 columns):\n",
      " #   Column                Non-Null Count    Dtype \n",
      "---  ------                --------------    ----- \n",
      " 0   usmer                 1048575 non-null  int64 \n",
      " 1   medical_unit          1048575 non-null  int64 \n",
      " 2   sex                   1048575 non-null  int64 \n",
      " 3   patient_type          1048575 non-null  int64 \n",
      " 4   date_died             1048575 non-null  object\n",
      " 5   intubed               1048575 non-null  int64 \n",
      " 6   pneumonia             1048575 non-null  int64 \n",
      " 7   age                   1048575 non-null  int64 \n",
      " 8   pregnant              1048575 non-null  int64 \n",
      " 9   diabetes              1048575 non-null  int64 \n",
      " 10  copd                  1048575 non-null  int64 \n",
      " 11  asthma                1048575 non-null  int64 \n",
      " 12  inmsupr               1048575 non-null  int64 \n",
      " 13  hipertension          1048575 non-null  int64 \n",
      " 14  other_disease         1048575 non-null  int64 \n",
      " 15  cardiovascular        1048575 non-null  int64 \n",
      " 16  obesity               1048575 non-null  int64 \n",
      " 17  renal_chronic         1048575 non-null  int64 \n",
      " 18  tobacco               1048575 non-null  int64 \n",
      " 19  clasiffication_final  1048575 non-null  int64 \n",
      " 20  icu                   1048575 non-null  int64 \n",
      "dtypes: int64(20), object(1)\n",
      "memory usage: 168.0+ MB\n"
     ]
    }
   ],
   "source": [
    "df.info()"
   ]
  },
  {
   "cell_type": "markdown",
   "id": "d45aea3c",
   "metadata": {},
   "source": [
    "# Preprocessing"
   ]
  },
  {
   "cell_type": "markdown",
   "id": "eaefdcce",
   "metadata": {},
   "source": [
    "### Missing Values"
   ]
  },
  {
   "cell_type": "code",
   "execution_count": 5,
   "id": "bae3765f",
   "metadata": {},
   "outputs": [
    {
     "data": {
      "text/plain": [
       "9999-99-99    971633\n",
       "06/07/2020      1000\n",
       "07/07/2020       996\n",
       "13/07/2020       990\n",
       "16/06/2020       979\n",
       "               ...  \n",
       "24/11/2020         1\n",
       "17/12/2020         1\n",
       "08/12/2020         1\n",
       "16/03/2021         1\n",
       "22/04/2021         1\n",
       "Name: date_died, Length: 401, dtype: int64"
      ]
     },
     "execution_count": 5,
     "metadata": {},
     "output_type": "execute_result"
    }
   ],
   "source": [
    "# the value 9999-99-99 means that the patient did not died\n",
    "\n",
    "df.date_died.value_counts()"
   ]
  },
  {
   "cell_type": "code",
   "execution_count": 6,
   "id": "65c6307f",
   "metadata": {},
   "outputs": [],
   "source": [
    "# creating a function to assign the value 0 or 1 if the patient died or not\n",
    "\n",
    "def patient_died(date_died):\n",
    "    if date_died == '9999-99-99':\n",
    "        return 0\n",
    "    else:\n",
    "        return 1"
   ]
  },
  {
   "cell_type": "code",
   "execution_count": 7,
   "id": "e379e299",
   "metadata": {},
   "outputs": [],
   "source": [
    "df['died'] = df.date_died.apply(patient_died)"
   ]
  },
  {
   "cell_type": "code",
   "execution_count": 8,
   "id": "f430ac8c",
   "metadata": {},
   "outputs": [],
   "source": [
    "df.drop('date_died', axis=1, inplace=True)"
   ]
  },
  {
   "cell_type": "code",
   "execution_count": 9,
   "id": "679a47b6",
   "metadata": {},
   "outputs": [
    {
     "data": {
      "text/plain": [
       "0    971633\n",
       "1     76942\n",
       "Name: died, dtype: int64"
      ]
     },
     "execution_count": 9,
     "metadata": {},
     "output_type": "execute_result"
    }
   ],
   "source": [
    "df.died.value_counts()"
   ]
  },
  {
   "cell_type": "markdown",
   "id": "23d6ad5f",
   "metadata": {},
   "source": [
    "- 97, 98 and 99 are missing values"
   ]
  },
  {
   "cell_type": "code",
   "execution_count": 10,
   "id": "baad90cb",
   "metadata": {
    "scrolled": false
   },
   "outputs": [
    {
     "name": "stdout",
     "output_type": "stream",
     "text": [
      "usmer\n",
      "2    662903\n",
      "1    385672\n",
      "Name: usmer, dtype: int64\n",
      "\n",
      "medical_unit\n",
      "12    602995\n",
      "4     314405\n",
      "6      40584\n",
      "9      38116\n",
      "3      19175\n",
      "8      10399\n",
      "10      7873\n",
      "5       7244\n",
      "11      5577\n",
      "13       996\n",
      "7        891\n",
      "2        169\n",
      "1        151\n",
      "Name: medical_unit, dtype: int64\n",
      "\n",
      "sex\n",
      "1    525064\n",
      "2    523511\n",
      "Name: sex, dtype: int64\n",
      "\n",
      "patient_type\n",
      "1    848544\n",
      "2    200031\n",
      "Name: patient_type, dtype: int64\n",
      "\n",
      "intubed\n",
      "97    848544\n",
      "2     159050\n",
      "1      33656\n",
      "99      7325\n",
      "Name: intubed, dtype: int64\n",
      "\n",
      "pneumonia\n",
      "2     892534\n",
      "1     140038\n",
      "99     16003\n",
      "Name: pneumonia, dtype: int64\n",
      "\n",
      "age\n",
      "30     27010\n",
      "31     25927\n",
      "28     25313\n",
      "29     25134\n",
      "34     24872\n",
      "       ...  \n",
      "114        2\n",
      "116        2\n",
      "111        1\n",
      "121        1\n",
      "113        1\n",
      "Name: age, Length: 121, dtype: int64\n",
      "\n",
      "pregnant\n",
      "97    523511\n",
      "2     513179\n",
      "1       8131\n",
      "98      3754\n",
      "Name: pregnant, dtype: int64\n",
      "\n",
      "diabetes\n",
      "2     920248\n",
      "1     124989\n",
      "98      3338\n",
      "Name: diabetes, dtype: int64\n",
      "\n",
      "copd\n",
      "2     1030510\n",
      "1       15062\n",
      "98       3003\n",
      "Name: copd, dtype: int64\n",
      "\n",
      "asthma\n",
      "2     1014024\n",
      "1       31572\n",
      "98       2979\n",
      "Name: asthma, dtype: int64\n",
      "\n",
      "inmsupr\n",
      "2     1031001\n",
      "1       14170\n",
      "98       3404\n",
      "Name: inmsupr, dtype: int64\n",
      "\n",
      "hipertension\n",
      "2     882742\n",
      "1     162729\n",
      "98      3104\n",
      "Name: hipertension, dtype: int64\n",
      "\n",
      "other_disease\n",
      "2     1015490\n",
      "1       28040\n",
      "98       5045\n",
      "Name: other_disease, dtype: int64\n",
      "\n",
      "cardiovascular\n",
      "2     1024730\n",
      "1       20769\n",
      "98       3076\n",
      "Name: cardiovascular, dtype: int64\n",
      "\n",
      "obesity\n",
      "2     885727\n",
      "1     159816\n",
      "98      3032\n",
      "Name: obesity, dtype: int64\n",
      "\n",
      "renal_chronic\n",
      "2     1026665\n",
      "1       18904\n",
      "98       3006\n",
      "Name: renal_chronic, dtype: int64\n",
      "\n",
      "tobacco\n",
      "2     960979\n",
      "1      84376\n",
      "98      3220\n",
      "Name: tobacco, dtype: int64\n",
      "\n",
      "clasiffication_final\n",
      "7    499250\n",
      "3    381527\n",
      "6    128133\n",
      "5     26091\n",
      "1      8601\n",
      "4      3122\n",
      "2      1851\n",
      "Name: clasiffication_final, dtype: int64\n",
      "\n",
      "icu\n",
      "97    848544\n",
      "2     175685\n",
      "1      16858\n",
      "99      7488\n",
      "Name: icu, dtype: int64\n",
      "\n",
      "died\n",
      "0    971633\n",
      "1     76942\n",
      "Name: died, dtype: int64\n",
      "\n"
     ]
    }
   ],
   "source": [
    "for col in df.columns:\n",
    "    print(col)\n",
    "    print(df[col].value_counts(dropna=False))\n",
    "    print()"
   ]
  },
  {
   "cell_type": "code",
   "execution_count": 11,
   "id": "e6d0e7a2",
   "metadata": {},
   "outputs": [],
   "source": [
    "for col in df.columns:\n",
    "    df.loc[(df[col] == 97) | (df[col] == 98) | (df[col] == 99), col] = np.nan"
   ]
  },
  {
   "cell_type": "code",
   "execution_count": 12,
   "id": "40c4b13d",
   "metadata": {
    "scrolled": false
   },
   "outputs": [
    {
     "data": {
      "text/plain": [
       "usmer                        0\n",
       "medical_unit                 0\n",
       "sex                          0\n",
       "patient_type                 0\n",
       "intubed                 855869\n",
       "pneumonia                16003\n",
       "age                        345\n",
       "pregnant                527265\n",
       "diabetes                  3338\n",
       "copd                      3003\n",
       "asthma                    2979\n",
       "inmsupr                   3404\n",
       "hipertension              3104\n",
       "other_disease             5045\n",
       "cardiovascular            3076\n",
       "obesity                   3032\n",
       "renal_chronic             3006\n",
       "tobacco                   3220\n",
       "clasiffication_final         0\n",
       "icu                     856032\n",
       "died                         0\n",
       "dtype: int64"
      ]
     },
     "execution_count": 12,
     "metadata": {},
     "output_type": "execute_result"
    }
   ],
   "source": [
    "df.isnull().sum()"
   ]
  },
  {
   "cell_type": "markdown",
   "id": "d26b272a",
   "metadata": {},
   "source": [
    "- **in the Boolean features, 1 means \"yes\" and 2 means \"no\"**"
   ]
  },
  {
   "cell_type": "code",
   "execution_count": 13,
   "id": "fde1bd71",
   "metadata": {},
   "outputs": [],
   "source": [
    "imputer = SimpleImputer(missing_values=np.nan, strategy='constant')"
   ]
  },
  {
   "cell_type": "code",
   "execution_count": 14,
   "id": "ade61e0f",
   "metadata": {},
   "outputs": [],
   "source": [
    "# assigning the columns that are the fewest null values the most constant value\n",
    "\n",
    "df['diabetes'] = imputer.fit_transform(df.diabetes.values.reshape(-1, 1))\n",
    "df['copd'] = imputer.fit_transform(df.copd.values.reshape(-1, 1))\n",
    "df['asthma'] = imputer.fit_transform(df.asthma.values.reshape(-1, 1))\n",
    "df['inmsupr'] = imputer.fit_transform(df.inmsupr.values.reshape(-1, 1))\n",
    "df['hipertension'] = imputer.fit_transform(df.hipertension.values.reshape(-1, 1))\n",
    "df['other_disease'] = imputer.fit_transform(df.other_disease.values.reshape(-1, 1))\n",
    "df['cardiovascular'] = imputer.fit_transform(df.cardiovascular.values.reshape(-1, 1))\n",
    "df['obesity'] = imputer.fit_transform(df.obesity.values.reshape(-1, 1))\n",
    "df['renal_chronic'] = imputer.fit_transform(df.renal_chronic.values.reshape(-1, 1))\n",
    "df['tobacco'] = imputer.fit_transform(df.tobacco.values.reshape(-1, 1))\n",
    "df['pneumonia'] = imputer.fit_transform(df.pneumonia.values.reshape(-1, 1))"
   ]
  },
  {
   "cell_type": "code",
   "execution_count": 15,
   "id": "b6bda85b",
   "metadata": {},
   "outputs": [],
   "source": [
    "# and the age values the median\n",
    "\n",
    "imputeAge = SimpleImputer(missing_values=np.nan, strategy='median')\n",
    "\n",
    "df['age'] = imputeAge.fit_transform(df.age.values.reshape(-1, 1))"
   ]
  },
  {
   "cell_type": "markdown",
   "id": "ff3b9336",
   "metadata": {},
   "source": [
    "- now, the others columns have more null values, let's examine them "
   ]
  },
  {
   "cell_type": "code",
   "execution_count": 16,
   "id": "be1f9f26",
   "metadata": {
    "scrolled": true
   },
   "outputs": [
    {
     "data": {
      "text/plain": [
       "NaN    855869\n",
       "2.0    159050\n",
       "1.0     33656\n",
       "Name: intubed, dtype: int64"
      ]
     },
     "execution_count": 16,
     "metadata": {},
     "output_type": "execute_result"
    }
   ],
   "source": [
    "df.intubed.value_counts(dropna=False)"
   ]
  },
  {
   "cell_type": "code",
   "execution_count": 17,
   "id": "3d8d0b49",
   "metadata": {},
   "outputs": [
    {
     "data": {
      "text/plain": [
       "1.0    848544\n",
       "2.0      7325\n",
       "Name: patient_type, dtype: int64"
      ]
     },
     "execution_count": 17,
     "metadata": {},
     "output_type": "execute_result"
    }
   ],
   "source": [
    "df.loc[df.intubed.isnull(), 'patient_type'].value_counts()"
   ]
  },
  {
   "cell_type": "markdown",
   "id": "2da5170e",
   "metadata": {},
   "source": [
    "- in patient_type the value 1 means that the patient returned at home"
   ]
  },
  {
   "cell_type": "code",
   "execution_count": 18,
   "id": "7bad8b22",
   "metadata": {},
   "outputs": [],
   "source": [
    "# so mostly null values means that the patient returned home\n",
    "\n",
    "df.loc[df.intubed.isnull(), 'intubed'] = 2"
   ]
  },
  {
   "cell_type": "code",
   "execution_count": 19,
   "id": "7420ad45",
   "metadata": {
    "scrolled": true
   },
   "outputs": [
    {
     "data": {
      "text/html": [
       "<div>\n",
       "<style scoped>\n",
       "    .dataframe tbody tr th:only-of-type {\n",
       "        vertical-align: middle;\n",
       "    }\n",
       "\n",
       "    .dataframe tbody tr th {\n",
       "        vertical-align: top;\n",
       "    }\n",
       "\n",
       "    .dataframe thead th {\n",
       "        text-align: right;\n",
       "    }\n",
       "</style>\n",
       "<table border=\"1\" class=\"dataframe\">\n",
       "  <thead>\n",
       "    <tr style=\"text-align: right;\">\n",
       "      <th></th>\n",
       "      <th>usmer</th>\n",
       "      <th>medical_unit</th>\n",
       "      <th>sex</th>\n",
       "      <th>patient_type</th>\n",
       "      <th>intubed</th>\n",
       "      <th>pneumonia</th>\n",
       "      <th>age</th>\n",
       "      <th>pregnant</th>\n",
       "      <th>diabetes</th>\n",
       "      <th>copd</th>\n",
       "      <th>...</th>\n",
       "      <th>inmsupr</th>\n",
       "      <th>hipertension</th>\n",
       "      <th>other_disease</th>\n",
       "      <th>cardiovascular</th>\n",
       "      <th>obesity</th>\n",
       "      <th>renal_chronic</th>\n",
       "      <th>tobacco</th>\n",
       "      <th>clasiffication_final</th>\n",
       "      <th>icu</th>\n",
       "      <th>died</th>\n",
       "    </tr>\n",
       "  </thead>\n",
       "  <tbody>\n",
       "    <tr>\n",
       "      <th>1</th>\n",
       "      <td>2.0</td>\n",
       "      <td>1.0</td>\n",
       "      <td>2.0</td>\n",
       "      <td>1.0</td>\n",
       "      <td>2.0</td>\n",
       "      <td>1.0</td>\n",
       "      <td>72.0</td>\n",
       "      <td>NaN</td>\n",
       "      <td>2.0</td>\n",
       "      <td>2.0</td>\n",
       "      <td>...</td>\n",
       "      <td>2.0</td>\n",
       "      <td>1.0</td>\n",
       "      <td>2.0</td>\n",
       "      <td>2.0</td>\n",
       "      <td>1.0</td>\n",
       "      <td>1.0</td>\n",
       "      <td>2.0</td>\n",
       "      <td>5.0</td>\n",
       "      <td>NaN</td>\n",
       "      <td>1.0</td>\n",
       "    </tr>\n",
       "    <tr>\n",
       "      <th>2</th>\n",
       "      <td>2.0</td>\n",
       "      <td>1.0</td>\n",
       "      <td>2.0</td>\n",
       "      <td>2.0</td>\n",
       "      <td>1.0</td>\n",
       "      <td>2.0</td>\n",
       "      <td>55.0</td>\n",
       "      <td>NaN</td>\n",
       "      <td>1.0</td>\n",
       "      <td>2.0</td>\n",
       "      <td>...</td>\n",
       "      <td>2.0</td>\n",
       "      <td>2.0</td>\n",
       "      <td>2.0</td>\n",
       "      <td>2.0</td>\n",
       "      <td>2.0</td>\n",
       "      <td>2.0</td>\n",
       "      <td>2.0</td>\n",
       "      <td>3.0</td>\n",
       "      <td>2.0</td>\n",
       "      <td>1.0</td>\n",
       "    </tr>\n",
       "    <tr>\n",
       "      <th>4</th>\n",
       "      <td>2.0</td>\n",
       "      <td>1.0</td>\n",
       "      <td>2.0</td>\n",
       "      <td>1.0</td>\n",
       "      <td>2.0</td>\n",
       "      <td>2.0</td>\n",
       "      <td>68.0</td>\n",
       "      <td>NaN</td>\n",
       "      <td>1.0</td>\n",
       "      <td>2.0</td>\n",
       "      <td>...</td>\n",
       "      <td>2.0</td>\n",
       "      <td>1.0</td>\n",
       "      <td>2.0</td>\n",
       "      <td>2.0</td>\n",
       "      <td>2.0</td>\n",
       "      <td>2.0</td>\n",
       "      <td>2.0</td>\n",
       "      <td>3.0</td>\n",
       "      <td>NaN</td>\n",
       "      <td>1.0</td>\n",
       "    </tr>\n",
       "    <tr>\n",
       "      <th>11</th>\n",
       "      <td>2.0</td>\n",
       "      <td>1.0</td>\n",
       "      <td>2.0</td>\n",
       "      <td>2.0</td>\n",
       "      <td>2.0</td>\n",
       "      <td>2.0</td>\n",
       "      <td>24.0</td>\n",
       "      <td>NaN</td>\n",
       "      <td>2.0</td>\n",
       "      <td>2.0</td>\n",
       "      <td>...</td>\n",
       "      <td>2.0</td>\n",
       "      <td>2.0</td>\n",
       "      <td>2.0</td>\n",
       "      <td>2.0</td>\n",
       "      <td>2.0</td>\n",
       "      <td>2.0</td>\n",
       "      <td>2.0</td>\n",
       "      <td>3.0</td>\n",
       "      <td>2.0</td>\n",
       "      <td>0.0</td>\n",
       "    </tr>\n",
       "    <tr>\n",
       "      <th>12</th>\n",
       "      <td>2.0</td>\n",
       "      <td>1.0</td>\n",
       "      <td>2.0</td>\n",
       "      <td>2.0</td>\n",
       "      <td>2.0</td>\n",
       "      <td>2.0</td>\n",
       "      <td>30.0</td>\n",
       "      <td>NaN</td>\n",
       "      <td>2.0</td>\n",
       "      <td>2.0</td>\n",
       "      <td>...</td>\n",
       "      <td>2.0</td>\n",
       "      <td>2.0</td>\n",
       "      <td>2.0</td>\n",
       "      <td>2.0</td>\n",
       "      <td>2.0</td>\n",
       "      <td>2.0</td>\n",
       "      <td>2.0</td>\n",
       "      <td>3.0</td>\n",
       "      <td>2.0</td>\n",
       "      <td>0.0</td>\n",
       "    </tr>\n",
       "  </tbody>\n",
       "</table>\n",
       "<p>5 rows × 21 columns</p>\n",
       "</div>"
      ],
      "text/plain": [
       "    usmer  medical_unit  sex  patient_type  intubed  pneumonia   age  \\\n",
       "1     2.0           1.0  2.0           1.0      2.0        1.0  72.0   \n",
       "2     2.0           1.0  2.0           2.0      1.0        2.0  55.0   \n",
       "4     2.0           1.0  2.0           1.0      2.0        2.0  68.0   \n",
       "11    2.0           1.0  2.0           2.0      2.0        2.0  24.0   \n",
       "12    2.0           1.0  2.0           2.0      2.0        2.0  30.0   \n",
       "\n",
       "    pregnant  diabetes  copd  ...  inmsupr  hipertension  other_disease  \\\n",
       "1        NaN       2.0   2.0  ...      2.0           1.0            2.0   \n",
       "2        NaN       1.0   2.0  ...      2.0           2.0            2.0   \n",
       "4        NaN       1.0   2.0  ...      2.0           1.0            2.0   \n",
       "11       NaN       2.0   2.0  ...      2.0           2.0            2.0   \n",
       "12       NaN       2.0   2.0  ...      2.0           2.0            2.0   \n",
       "\n",
       "    cardiovascular  obesity  renal_chronic  tobacco  clasiffication_final  \\\n",
       "1              2.0      1.0            1.0      2.0                   5.0   \n",
       "2              2.0      2.0            2.0      2.0                   3.0   \n",
       "4              2.0      2.0            2.0      2.0                   3.0   \n",
       "11             2.0      2.0            2.0      2.0                   3.0   \n",
       "12             2.0      2.0            2.0      2.0                   3.0   \n",
       "\n",
       "    icu  died  \n",
       "1   NaN   1.0  \n",
       "2   2.0   1.0  \n",
       "4   NaN   1.0  \n",
       "11  2.0   0.0  \n",
       "12  2.0   0.0  \n",
       "\n",
       "[5 rows x 21 columns]"
      ]
     },
     "execution_count": 19,
     "metadata": {},
     "output_type": "execute_result"
    }
   ],
   "source": [
    "df[df.pregnant.isnull()].head()"
   ]
  },
  {
   "cell_type": "code",
   "execution_count": 20,
   "id": "4b2a9279",
   "metadata": {},
   "outputs": [],
   "source": [
    "# the null values means that the patient are male\n",
    "\n",
    "df['pregnant'] = imputer.fit_transform(df.pregnant.values.reshape(-1, 1))"
   ]
  },
  {
   "cell_type": "code",
   "execution_count": 21,
   "id": "7bbb38b9",
   "metadata": {},
   "outputs": [
    {
     "data": {
      "text/plain": [
       "NaN    856032\n",
       "2.0    175685\n",
       "1.0     16858\n",
       "Name: icu, dtype: int64"
      ]
     },
     "execution_count": 21,
     "metadata": {},
     "output_type": "execute_result"
    }
   ],
   "source": [
    "df.icu.value_counts(dropna=False)"
   ]
  },
  {
   "cell_type": "code",
   "execution_count": 22,
   "id": "d72709a8",
   "metadata": {},
   "outputs": [
    {
     "data": {
      "text/plain": [
       "1.0    848544\n",
       "2.0      7488\n",
       "Name: patient_type, dtype: int64"
      ]
     },
     "execution_count": 22,
     "metadata": {},
     "output_type": "execute_result"
    }
   ],
   "source": [
    "df.loc[df.icu.isnull(), 'patient_type'].value_counts()"
   ]
  },
  {
   "cell_type": "code",
   "execution_count": 23,
   "id": "db834af7",
   "metadata": {},
   "outputs": [],
   "source": [
    "# just like the 'intubed' column, the patient treated the virus at home\n",
    "\n",
    "\n",
    "df['icu'] = imputer.fit_transform(df.icu.values.reshape(-1, 1))"
   ]
  },
  {
   "cell_type": "code",
   "execution_count": 24,
   "id": "ea2d63e5",
   "metadata": {
    "scrolled": false
   },
   "outputs": [
    {
     "data": {
      "text/plain": [
       "usmer                   0\n",
       "medical_unit            0\n",
       "sex                     0\n",
       "patient_type            0\n",
       "intubed                 0\n",
       "pneumonia               0\n",
       "age                     0\n",
       "pregnant                0\n",
       "diabetes                0\n",
       "copd                    0\n",
       "asthma                  0\n",
       "inmsupr                 0\n",
       "hipertension            0\n",
       "other_disease           0\n",
       "cardiovascular          0\n",
       "obesity                 0\n",
       "renal_chronic           0\n",
       "tobacco                 0\n",
       "clasiffication_final    0\n",
       "icu                     0\n",
       "died                    0\n",
       "dtype: int64"
      ]
     },
     "execution_count": 24,
     "metadata": {},
     "output_type": "execute_result"
    }
   ],
   "source": [
    "df.isnull().sum()"
   ]
  },
  {
   "cell_type": "markdown",
   "id": "5c4769c6",
   "metadata": {},
   "source": [
    "### Outliers"
   ]
  },
  {
   "cell_type": "code",
   "execution_count": 25,
   "id": "7e99076b",
   "metadata": {
    "scrolled": true
   },
   "outputs": [
    {
     "data": {
      "text/html": [
       "<div>\n",
       "<style scoped>\n",
       "    .dataframe tbody tr th:only-of-type {\n",
       "        vertical-align: middle;\n",
       "    }\n",
       "\n",
       "    .dataframe tbody tr th {\n",
       "        vertical-align: top;\n",
       "    }\n",
       "\n",
       "    .dataframe thead th {\n",
       "        text-align: right;\n",
       "    }\n",
       "</style>\n",
       "<table border=\"1\" class=\"dataframe\">\n",
       "  <thead>\n",
       "    <tr style=\"text-align: right;\">\n",
       "      <th></th>\n",
       "      <th>usmer</th>\n",
       "      <th>medical_unit</th>\n",
       "      <th>sex</th>\n",
       "      <th>patient_type</th>\n",
       "      <th>intubed</th>\n",
       "      <th>pneumonia</th>\n",
       "      <th>age</th>\n",
       "      <th>pregnant</th>\n",
       "      <th>diabetes</th>\n",
       "      <th>copd</th>\n",
       "      <th>...</th>\n",
       "      <th>inmsupr</th>\n",
       "      <th>hipertension</th>\n",
       "      <th>other_disease</th>\n",
       "      <th>cardiovascular</th>\n",
       "      <th>obesity</th>\n",
       "      <th>renal_chronic</th>\n",
       "      <th>tobacco</th>\n",
       "      <th>clasiffication_final</th>\n",
       "      <th>icu</th>\n",
       "      <th>died</th>\n",
       "    </tr>\n",
       "  </thead>\n",
       "  <tbody>\n",
       "    <tr>\n",
       "      <th>count</th>\n",
       "      <td>1048575.00</td>\n",
       "      <td>1048575.00</td>\n",
       "      <td>1048575.00</td>\n",
       "      <td>1048575.00</td>\n",
       "      <td>1048575.00</td>\n",
       "      <td>1048575.00</td>\n",
       "      <td>1048575.00</td>\n",
       "      <td>1048575.00</td>\n",
       "      <td>1048575.00</td>\n",
       "      <td>1048575.00</td>\n",
       "      <td>...</td>\n",
       "      <td>1048575.00</td>\n",
       "      <td>1048575.00</td>\n",
       "      <td>1048575.00</td>\n",
       "      <td>1048575.00</td>\n",
       "      <td>1048575.00</td>\n",
       "      <td>1048575.00</td>\n",
       "      <td>1048575.00</td>\n",
       "      <td>1048575.00</td>\n",
       "      <td>1048575.00</td>\n",
       "      <td>1048575.00</td>\n",
       "    </tr>\n",
       "    <tr>\n",
       "      <th>mean</th>\n",
       "      <td>1.63</td>\n",
       "      <td>8.98</td>\n",
       "      <td>1.50</td>\n",
       "      <td>1.19</td>\n",
       "      <td>1.97</td>\n",
       "      <td>1.84</td>\n",
       "      <td>41.78</td>\n",
       "      <td>0.99</td>\n",
       "      <td>1.87</td>\n",
       "      <td>1.98</td>\n",
       "      <td>...</td>\n",
       "      <td>1.98</td>\n",
       "      <td>1.84</td>\n",
       "      <td>1.96</td>\n",
       "      <td>1.97</td>\n",
       "      <td>1.84</td>\n",
       "      <td>1.98</td>\n",
       "      <td>1.91</td>\n",
       "      <td>5.31</td>\n",
       "      <td>0.35</td>\n",
       "      <td>0.07</td>\n",
       "    </tr>\n",
       "    <tr>\n",
       "      <th>std</th>\n",
       "      <td>0.48</td>\n",
       "      <td>3.72</td>\n",
       "      <td>0.50</td>\n",
       "      <td>0.39</td>\n",
       "      <td>0.18</td>\n",
       "      <td>0.41</td>\n",
       "      <td>16.88</td>\n",
       "      <td>1.00</td>\n",
       "      <td>0.34</td>\n",
       "      <td>0.16</td>\n",
       "      <td>...</td>\n",
       "      <td>0.16</td>\n",
       "      <td>0.38</td>\n",
       "      <td>0.21</td>\n",
       "      <td>0.18</td>\n",
       "      <td>0.37</td>\n",
       "      <td>0.17</td>\n",
       "      <td>0.29</td>\n",
       "      <td>1.88</td>\n",
       "      <td>0.75</td>\n",
       "      <td>0.26</td>\n",
       "    </tr>\n",
       "    <tr>\n",
       "      <th>min</th>\n",
       "      <td>1.00</td>\n",
       "      <td>1.00</td>\n",
       "      <td>1.00</td>\n",
       "      <td>1.00</td>\n",
       "      <td>1.00</td>\n",
       "      <td>0.00</td>\n",
       "      <td>0.00</td>\n",
       "      <td>0.00</td>\n",
       "      <td>0.00</td>\n",
       "      <td>0.00</td>\n",
       "      <td>...</td>\n",
       "      <td>0.00</td>\n",
       "      <td>0.00</td>\n",
       "      <td>0.00</td>\n",
       "      <td>0.00</td>\n",
       "      <td>0.00</td>\n",
       "      <td>0.00</td>\n",
       "      <td>0.00</td>\n",
       "      <td>1.00</td>\n",
       "      <td>0.00</td>\n",
       "      <td>0.00</td>\n",
       "    </tr>\n",
       "    <tr>\n",
       "      <th>25%</th>\n",
       "      <td>1.00</td>\n",
       "      <td>4.00</td>\n",
       "      <td>1.00</td>\n",
       "      <td>1.00</td>\n",
       "      <td>2.00</td>\n",
       "      <td>2.00</td>\n",
       "      <td>30.00</td>\n",
       "      <td>0.00</td>\n",
       "      <td>2.00</td>\n",
       "      <td>2.00</td>\n",
       "      <td>...</td>\n",
       "      <td>2.00</td>\n",
       "      <td>2.00</td>\n",
       "      <td>2.00</td>\n",
       "      <td>2.00</td>\n",
       "      <td>2.00</td>\n",
       "      <td>2.00</td>\n",
       "      <td>2.00</td>\n",
       "      <td>3.00</td>\n",
       "      <td>0.00</td>\n",
       "      <td>0.00</td>\n",
       "    </tr>\n",
       "    <tr>\n",
       "      <th>50%</th>\n",
       "      <td>2.00</td>\n",
       "      <td>12.00</td>\n",
       "      <td>1.00</td>\n",
       "      <td>1.00</td>\n",
       "      <td>2.00</td>\n",
       "      <td>2.00</td>\n",
       "      <td>40.00</td>\n",
       "      <td>0.00</td>\n",
       "      <td>2.00</td>\n",
       "      <td>2.00</td>\n",
       "      <td>...</td>\n",
       "      <td>2.00</td>\n",
       "      <td>2.00</td>\n",
       "      <td>2.00</td>\n",
       "      <td>2.00</td>\n",
       "      <td>2.00</td>\n",
       "      <td>2.00</td>\n",
       "      <td>2.00</td>\n",
       "      <td>6.00</td>\n",
       "      <td>0.00</td>\n",
       "      <td>0.00</td>\n",
       "    </tr>\n",
       "    <tr>\n",
       "      <th>75%</th>\n",
       "      <td>2.00</td>\n",
       "      <td>12.00</td>\n",
       "      <td>2.00</td>\n",
       "      <td>1.00</td>\n",
       "      <td>2.00</td>\n",
       "      <td>2.00</td>\n",
       "      <td>53.00</td>\n",
       "      <td>2.00</td>\n",
       "      <td>2.00</td>\n",
       "      <td>2.00</td>\n",
       "      <td>...</td>\n",
       "      <td>2.00</td>\n",
       "      <td>2.00</td>\n",
       "      <td>2.00</td>\n",
       "      <td>2.00</td>\n",
       "      <td>2.00</td>\n",
       "      <td>2.00</td>\n",
       "      <td>2.00</td>\n",
       "      <td>7.00</td>\n",
       "      <td>0.00</td>\n",
       "      <td>0.00</td>\n",
       "    </tr>\n",
       "    <tr>\n",
       "      <th>max</th>\n",
       "      <td>2.00</td>\n",
       "      <td>13.00</td>\n",
       "      <td>2.00</td>\n",
       "      <td>2.00</td>\n",
       "      <td>2.00</td>\n",
       "      <td>2.00</td>\n",
       "      <td>121.00</td>\n",
       "      <td>2.00</td>\n",
       "      <td>2.00</td>\n",
       "      <td>2.00</td>\n",
       "      <td>...</td>\n",
       "      <td>2.00</td>\n",
       "      <td>2.00</td>\n",
       "      <td>2.00</td>\n",
       "      <td>2.00</td>\n",
       "      <td>2.00</td>\n",
       "      <td>2.00</td>\n",
       "      <td>2.00</td>\n",
       "      <td>7.00</td>\n",
       "      <td>2.00</td>\n",
       "      <td>1.00</td>\n",
       "    </tr>\n",
       "  </tbody>\n",
       "</table>\n",
       "<p>8 rows × 21 columns</p>\n",
       "</div>"
      ],
      "text/plain": [
       "           usmer  medical_unit        sex  patient_type    intubed  pneumonia  \\\n",
       "count 1048575.00    1048575.00 1048575.00    1048575.00 1048575.00 1048575.00   \n",
       "mean        1.63          8.98       1.50          1.19       1.97       1.84   \n",
       "std         0.48          3.72       0.50          0.39       0.18       0.41   \n",
       "min         1.00          1.00       1.00          1.00       1.00       0.00   \n",
       "25%         1.00          4.00       1.00          1.00       2.00       2.00   \n",
       "50%         2.00         12.00       1.00          1.00       2.00       2.00   \n",
       "75%         2.00         12.00       2.00          1.00       2.00       2.00   \n",
       "max         2.00         13.00       2.00          2.00       2.00       2.00   \n",
       "\n",
       "             age   pregnant   diabetes       copd  ...    inmsupr  \\\n",
       "count 1048575.00 1048575.00 1048575.00 1048575.00  ... 1048575.00   \n",
       "mean       41.78       0.99       1.87       1.98  ...       1.98   \n",
       "std        16.88       1.00       0.34       0.16  ...       0.16   \n",
       "min         0.00       0.00       0.00       0.00  ...       0.00   \n",
       "25%        30.00       0.00       2.00       2.00  ...       2.00   \n",
       "50%        40.00       0.00       2.00       2.00  ...       2.00   \n",
       "75%        53.00       2.00       2.00       2.00  ...       2.00   \n",
       "max       121.00       2.00       2.00       2.00  ...       2.00   \n",
       "\n",
       "       hipertension  other_disease  cardiovascular    obesity  renal_chronic  \\\n",
       "count    1048575.00     1048575.00      1048575.00 1048575.00     1048575.00   \n",
       "mean           1.84           1.96            1.97       1.84           1.98   \n",
       "std            0.38           0.21            0.18       0.37           0.17   \n",
       "min            0.00           0.00            0.00       0.00           0.00   \n",
       "25%            2.00           2.00            2.00       2.00           2.00   \n",
       "50%            2.00           2.00            2.00       2.00           2.00   \n",
       "75%            2.00           2.00            2.00       2.00           2.00   \n",
       "max            2.00           2.00            2.00       2.00           2.00   \n",
       "\n",
       "         tobacco  clasiffication_final        icu       died  \n",
       "count 1048575.00            1048575.00 1048575.00 1048575.00  \n",
       "mean        1.91                  5.31       0.35       0.07  \n",
       "std         0.29                  1.88       0.75       0.26  \n",
       "min         0.00                  1.00       0.00       0.00  \n",
       "25%         2.00                  3.00       0.00       0.00  \n",
       "50%         2.00                  6.00       0.00       0.00  \n",
       "75%         2.00                  7.00       0.00       0.00  \n",
       "max         2.00                  7.00       2.00       1.00  \n",
       "\n",
       "[8 rows x 21 columns]"
      ]
     },
     "execution_count": 25,
     "metadata": {},
     "output_type": "execute_result"
    }
   ],
   "source": [
    "pd.options.display.float_format = '{:.2f}'.format\n",
    "\n",
    "df.describe()"
   ]
  },
  {
   "cell_type": "code",
   "execution_count": 26,
   "id": "5464b5b9",
   "metadata": {},
   "outputs": [
    {
     "data": {
      "image/png": "[encoded data removed]",
      "text/plain": [
       "<Figure size 432x288 with 1 Axes>"
      ]
     },
     "metadata": {
      "needs_background": "light"
     },
     "output_type": "display_data"
    }
   ],
   "source": [
    "sns.boxplot(data=df, x='age');"
   ]
  },
  {
   "cell_type": "code",
   "execution_count": 27,
   "id": "3d412171",
   "metadata": {},
   "outputs": [],
   "source": [
    "# changing the values of 'age' column\n",
    "\n",
    "df.loc[(df.age > 0) & (df.age <= 10), 'age'] = 0\n",
    "df.loc[(df.age > 10) & (df.age <= 20), 'age'] = 1\n",
    "df.loc[(df.age > 20) & (df.age <= 30), 'age'] = 2\n",
    "df.loc[(df.age > 30) & (df.age <= 50), 'age'] = 3\n",
    "df.loc[(df.age > 50) & (df.age <= 60), 'age'] = 4\n",
    "df.loc[(df.age > 60) & (df.age <= 80), 'age'] = 5\n",
    "df.loc[(df.age > 80) & (df.age <= 90), 'age'] = 6\n",
    "df.loc[df.age > 90, 'age'] = 7"
   ]
  },
  {
   "cell_type": "code",
   "execution_count": 28,
   "id": "3f2e67da",
   "metadata": {
    "scrolled": true
   },
   "outputs": [
    {
     "data": {
      "image/png": "[encoded data removed]",
      "text/plain": [
       "<Figure size 432x288 with 1 Axes>"
      ]
     },
     "metadata": {
      "needs_background": "light"
     },
     "output_type": "display_data"
    }
   ],
   "source": [
    "sns.boxplot(data=df, x='age');"
   ]
  },
  {
   "cell_type": "markdown",
   "id": "9b92de0d",
   "metadata": {},
   "source": [
    "# Correlation"
   ]
  },
  {
   "cell_type": "code",
   "execution_count": 29,
   "id": "265d0bf0",
   "metadata": {},
   "outputs": [
    {
     "data": {
      "image/png": "[encoded data removed]",
      "text/plain": [
       "<Figure size 1080x1080 with 2 Axes>"
      ]
     },
     "metadata": {
      "needs_background": "light"
     },
     "output_type": "display_data"
    }
   ],
   "source": [
    "fig, ax = plt.subplots(figsize=(15, 15))\n",
    "\n",
    "sns.heatmap(df.corr(), annot=True, cmap='YlOrRd')\n",
    "\n",
    "plt.show()"
   ]
  },
  {
   "cell_type": "markdown",
   "id": "6b59dbf6",
   "metadata": {},
   "source": [
    "# Unbalanced Targets??"
   ]
  },
  {
   "cell_type": "code",
   "execution_count": 30,
   "id": "2fca2a1d",
   "metadata": {},
   "outputs": [],
   "source": [
    "perc_died = df.groupby(['died'])['died'].count()"
   ]
  },
  {
   "cell_type": "code",
   "execution_count": 31,
   "id": "c14abdc1",
   "metadata": {
    "scrolled": false
   },
   "outputs": [
    {
     "data": {
      "image/png": "[encoded data removed]",
      "text/plain": [
       "<Figure size 576x432 with 1 Axes>"
      ]
     },
     "metadata": {
      "needs_background": "light"
     },
     "output_type": "display_data"
    }
   ],
   "source": [
    "fig, ax = plt.subplots(figsize=(8, 6))\n",
    "\n",
    "ax.bar(x=perc_died.index, height=perc_died.values)\n",
    "\n",
    "ax.annotate(\n",
    "    text='{:,.2f}%'.format(perc_died.values[0] / (perc_died.values[1] + perc_died.values[0]) * 100),\n",
    "    xy=(0, perc_died.values[0]),\n",
    "    ha='center',\n",
    "    xytext=(0, -15),\n",
    "    textcoords=\"offset points\",\n",
    "    fontsize=14,\n",
    "    color='white'\n",
    ")\n",
    "\n",
    "ax.annotate(\n",
    "    text='{:,.2f}%'.format(perc_died.values[1] / (perc_died.values[1] + perc_died.values[0]) * 100),\n",
    "    xy=(1, perc_died.values[1]),\n",
    "    ha='center',\n",
    "    xytext=(0, -15),\n",
    "    textcoords=\"offset points\",\n",
    "    fontsize=14,\n",
    "    color='white'\n",
    ")\n",
    "\n",
    "ax.spines[['top', 'left', 'right']].set_visible(False)\n",
    "ax.yaxis.set_visible(False)\n",
    "\n",
    "ax.set_xticks([0, 1], ['didn\\'t died', 'died'], fontsize=16)\n",
    "\n",
    "plt.show()"
   ]
  },
  {
   "cell_type": "markdown",
   "id": "1852aa14",
   "metadata": {},
   "source": [
    "- we can see that our dataset is unbalanced, to train our data, we need to balance them"
   ]
  },
  {
   "cell_type": "code",
   "execution_count": 32,
   "id": "dd324187",
   "metadata": {},
   "outputs": [],
   "source": [
    "X = df.drop('died', axis=1)\n",
    "y = df.died"
   ]
  },
  {
   "cell_type": "code",
   "execution_count": 33,
   "id": "34747395",
   "metadata": {},
   "outputs": [],
   "source": [
    "X_train_full, X_test, y_train_full, y_test = train_test_split(X, y, random_state=0, stratify=y)\n",
    "X_train, y_train = X_train_full[:-100000], y_train_full[:-100000]\n",
    "X_valid, y_valid = X_train_full[-100000:], y_train_full[-100000:]"
   ]
  },
  {
   "cell_type": "code",
   "execution_count": 34,
   "id": "75c8902f",
   "metadata": {},
   "outputs": [
    {
     "data": {
      "text/plain": [
       "((786431, 20), (686431, 20), (100000, 20), (262144, 20))"
      ]
     },
     "execution_count": 34,
     "metadata": {},
     "output_type": "execute_result"
    }
   ],
   "source": [
    "X_train_full.shape, X_train.shape, X_valid.shape, X_test.shape"
   ]
  },
  {
   "cell_type": "code",
   "execution_count": 35,
   "id": "19307018",
   "metadata": {},
   "outputs": [
    {
     "data": {
      "text/plain": [
       "0.00    636105\n",
       "1.00     50326\n",
       "Name: died, dtype: int64"
      ]
     },
     "execution_count": 35,
     "metadata": {},
     "output_type": "execute_result"
    }
   ],
   "source": [
    "y_train.value_counts()"
   ]
  },
  {
   "cell_type": "code",
   "execution_count": 36,
   "id": "50eb3b9a",
   "metadata": {},
   "outputs": [
    {
     "data": {
      "text/plain": [
       "0.00    636105\n",
       "1.00    636105\n",
       "Name: died, dtype: int64"
      ]
     },
     "execution_count": 36,
     "metadata": {},
     "output_type": "execute_result"
    }
   ],
   "source": [
    "# using RandomOverSampler to balance the data\n",
    "\n",
    "rs = RandomOverSampler(random_state=0)\n",
    "\n",
    "X_res, y_res = rs.fit_resample(X_train, y_train)\n",
    "\n",
    "y_res.value_counts()"
   ]
  },
  {
   "cell_type": "markdown",
   "id": "8c532229",
   "metadata": {},
   "source": [
    "# Deep Learning"
   ]
  },
  {
   "cell_type": "markdown",
   "id": "567aadd7",
   "metadata": {},
   "source": [
    "- using the architecture *Wide & Deep*"
   ]
  },
  {
   "cell_type": "code",
   "execution_count": 37,
   "id": "67ae1cd0",
   "metadata": {},
   "outputs": [],
   "source": [
    "# defining which features will follow on the Wide path and which on the Deep path\n",
    "\n",
    "wide = ['patient_type', 'intubed', 'age', 'icu']\n",
    "deep = [feature for feature in X.columns if feature not in wide]"
   ]
  },
  {
   "cell_type": "code",
   "execution_count": 38,
   "id": "6d243341",
   "metadata": {},
   "outputs": [
    {
     "data": {
      "text/plain": [
       "(4, 16)"
      ]
     },
     "execution_count": 38,
     "metadata": {},
     "output_type": "execute_result"
    }
   ],
   "source": [
    "len(wide), len(deep)"
   ]
  },
  {
   "cell_type": "code",
   "execution_count": 39,
   "id": "01ca137c",
   "metadata": {},
   "outputs": [],
   "source": [
    "tf.random.set_seed(0)"
   ]
  },
  {
   "cell_type": "code",
   "execution_count": 40,
   "id": "837332c2",
   "metadata": {},
   "outputs": [],
   "source": [
    "# input layers\n",
    "input_wide = tf.keras.layers.Input(shape=[len(wide)])\n",
    "input_deep = tf.keras.layers.Input(shape=[len(deep)])\n",
    "\n",
    "# normalization layers\n",
    "norm_layer_wide = tf.keras.layers.Normalization()\n",
    "norm_layer_deep = tf.keras.layers.Normalization()\n",
    "norm_wide = norm_layer_wide(input_wide)\n",
    "norm_deep = norm_layer_deep(input_deep)\n",
    "\n",
    "# hidden layers\n",
    "hidden1 = tf.keras.layers.Dense(50, activation='relu')(norm_deep)\n",
    "hidden2 = tf.keras.layers.Dense(50, activation='relu')(hidden1)\n",
    "hidden3 = tf.keras.layers.Dense(50, activation='relu')(hidden2)\n",
    "\n",
    "# concatenate layer\n",
    "concat = tf.keras.layers.concatenate([norm_wide, hidden3])\n",
    "\n",
    "# output layer\n",
    "output = tf.keras.layers.Dense(1, activation='sigmoid')(concat)"
   ]
  },
  {
   "cell_type": "code",
   "execution_count": 41,
   "id": "34e1af85",
   "metadata": {},
   "outputs": [],
   "source": [
    "model = tf.keras.Model(inputs=[input_wide, input_deep], outputs=[output])"
   ]
  },
  {
   "cell_type": "code",
   "execution_count": 42,
   "id": "71aa61ee",
   "metadata": {},
   "outputs": [],
   "source": [
    "optimizer = tf.keras.optimizers.Adam(learning_rate=1e-3)"
   ]
  },
  {
   "cell_type": "code",
   "execution_count": 43,
   "id": "15384655",
   "metadata": {},
   "outputs": [],
   "source": [
    "model.compile(optimizer='adam', loss='binary_crossentropy', metrics=['accuracy', tf.keras.metrics.Recall()])"
   ]
  },
  {
   "cell_type": "code",
   "execution_count": 44,
   "id": "1ab77758",
   "metadata": {},
   "outputs": [],
   "source": [
    "X_train_wide, X_train_deep = X_res[wide], X_res[deep]\n",
    "X_valid_wide, X_valid_deep = X_valid[wide], X_valid[deep]\n",
    "X_test_wide, X_test_deep = X_test[wide], X_test[deep]"
   ]
  },
  {
   "cell_type": "code",
   "execution_count": 45,
   "id": "48d329ff",
   "metadata": {},
   "outputs": [
    {
     "data": {
      "text/plain": [
       "((1272210, 16), (1272210, 4))"
      ]
     },
     "execution_count": 45,
     "metadata": {},
     "output_type": "execute_result"
    }
   ],
   "source": [
    "X_train_deep.shape, X_train_wide.shape"
   ]
  },
  {
   "cell_type": "code",
   "execution_count": 46,
   "id": "20fb0120",
   "metadata": {},
   "outputs": [],
   "source": [
    "norm_layer_wide.adapt(X_train_wide)\n",
    "norm_layer_deep.adapt(X_train_deep)"
   ]
  },
  {
   "cell_type": "code",
   "execution_count": 47,
   "id": "f1329c7a",
   "metadata": {
    "scrolled": false
   },
   "outputs": [
    {
     "name": "stdout",
     "output_type": "stream",
     "text": [
      "Epoch 1/20\n",
      "39757/39757 [==============================] - 205s 5ms/step - loss: 0.2468 - accuracy: 0.9052 - recall: 0.9183 - val_loss: 0.2491 - val_accuracy: 0.8992 - val_recall: 0.9129\n",
      "Epoch 2/20\n",
      "39757/39757 [==============================] - 194s 5ms/step - loss: 0.2376 - accuracy: 0.9091 - recall: 0.9226 - val_loss: 0.2599 - val_accuracy: 0.8982 - val_recall: 0.9222\n",
      "Epoch 3/20\n",
      "39757/39757 [==============================] - 181s 5ms/step - loss: 0.2354 - accuracy: 0.9103 - recall: 0.9241 - val_loss: 0.2702 - val_accuracy: 0.8964 - val_recall: 0.9271\n",
      "Epoch 4/20\n",
      "39757/39757 [==============================] - 188s 5ms/step - loss: 0.2343 - accuracy: 0.9109 - recall: 0.9248 - val_loss: 0.2448 - val_accuracy: 0.9010 - val_recall: 0.9148\n",
      "Epoch 5/20\n",
      "39757/39757 [==============================] - 209s 5ms/step - loss: 0.2334 - accuracy: 0.9114 - recall: 0.9254 - val_loss: 0.2505 - val_accuracy: 0.9005 - val_recall: 0.9154\n",
      "Epoch 6/20\n",
      "39757/39757 [==============================] - 239s 6ms/step - loss: 0.2326 - accuracy: 0.9117 - recall: 0.9260 - val_loss: 0.2618 - val_accuracy: 0.8984 - val_recall: 0.9217\n",
      "Epoch 7/20\n",
      "39757/39757 [==============================] - 220s 6ms/step - loss: 0.2318 - accuracy: 0.9122 - recall: 0.9264 - val_loss: 0.2595 - val_accuracy: 0.8982 - val_recall: 0.9214\n",
      "Epoch 8/20\n",
      "39757/39757 [==============================] - 220s 6ms/step - loss: 0.2313 - accuracy: 0.9123 - recall: 0.9267 - val_loss: 0.2665 - val_accuracy: 0.8974 - val_recall: 0.9218\n",
      "Epoch 9/20\n",
      "39757/39757 [==============================] - 226s 6ms/step - loss: 0.2307 - accuracy: 0.9127 - recall: 0.9270 - val_loss: 0.2474 - val_accuracy: 0.8999 - val_recall: 0.9152\n",
      "Epoch 10/20\n",
      "39757/39757 [==============================] - 204s 5ms/step - loss: 0.2302 - accuracy: 0.9130 - recall: 0.9274 - val_loss: 0.2456 - val_accuracy: 0.9003 - val_recall: 0.9111\n",
      "Epoch 11/20\n",
      "39757/39757 [==============================] - 224s 6ms/step - loss: 0.2299 - accuracy: 0.9130 - recall: 0.9273 - val_loss: 0.2581 - val_accuracy: 0.8980 - val_recall: 0.9202\n",
      "Epoch 12/20\n",
      "39757/39757 [==============================] - 209s 5ms/step - loss: 0.2295 - accuracy: 0.9133 - recall: 0.9277 - val_loss: 0.2689 - val_accuracy: 0.8966 - val_recall: 0.9237\n",
      "Epoch 13/20\n",
      "39757/39757 [==============================] - 215s 5ms/step - loss: 0.2292 - accuracy: 0.9133 - recall: 0.9277 - val_loss: 0.2495 - val_accuracy: 0.9022 - val_recall: 0.9136\n",
      "Epoch 14/20\n",
      "39757/39757 [==============================] - 187s 5ms/step - loss: 0.2289 - accuracy: 0.9133 - recall: 0.9276 - val_loss: 0.2794 - val_accuracy: 0.8949 - val_recall: 0.9286\n",
      "Epoch 15/20\n",
      "39757/39757 [==============================] - 203s 5ms/step - loss: 0.2288 - accuracy: 0.9135 - recall: 0.9280 - val_loss: 0.2569 - val_accuracy: 0.9009 - val_recall: 0.9142\n",
      "Epoch 16/20\n",
      "39757/39757 [==============================] - 219s 6ms/step - loss: 0.2285 - accuracy: 0.9136 - recall: 0.9280 - val_loss: 0.2622 - val_accuracy: 0.8984 - val_recall: 0.9210\n",
      "Epoch 17/20\n",
      "39757/39757 [==============================] - 231s 6ms/step - loss: 0.2282 - accuracy: 0.9138 - recall: 0.9281 - val_loss: 0.2604 - val_accuracy: 0.8986 - val_recall: 0.9171\n",
      "Epoch 18/20\n",
      "39757/39757 [==============================] - 239s 6ms/step - loss: 0.2280 - accuracy: 0.9138 - recall: 0.9283 - val_loss: 0.2511 - val_accuracy: 0.9007 - val_recall: 0.9130\n",
      "Epoch 19/20\n",
      "39757/39757 [==============================] - 236s 6ms/step - loss: 0.2279 - accuracy: 0.9140 - recall: 0.9285 - val_loss: 0.2537 - val_accuracy: 0.9009 - val_recall: 0.9133\n",
      "Epoch 20/20\n",
      "39757/39757 [==============================] - 258s 6ms/step - loss: 0.2277 - accuracy: 0.9138 - recall: 0.9282 - val_loss: 0.2552 - val_accuracy: 0.9001 - val_recall: 0.9157\n"
     ]
    }
   ],
   "source": [
    "history = model.fit((X_train_wide, X_train_deep), y_res, epochs=20,\n",
    "                   validation_data=((X_valid_wide, X_valid_deep), y_valid))"
   ]
  },
  {
   "cell_type": "code",
   "execution_count": 48,
   "id": "5674de5d",
   "metadata": {
    "scrolled": false
   },
   "outputs": [
    {
     "name": "stdout",
     "output_type": "stream",
     "text": [
      "8192/8192 [==============================] - 27s 3ms/step - loss: 0.2577 - accuracy: 0.9003 - recall: 0.9194\n"
     ]
    },
    {
     "data": {
      "text/plain": [
       "[0.2577103078365326, 0.9002723693847656, 0.919421911239624]"
      ]
     },
     "execution_count": 48,
     "metadata": {},
     "output_type": "execute_result"
    }
   ],
   "source": [
    "model.evaluate((X_test_wide, X_test_deep), y_test)"
   ]
  },
  {
   "cell_type": "markdown",
   "id": "c1957e75",
   "metadata": {},
   "source": [
    "- our model had **90% of accuracy**, **91.9% of recall** and had **0.25 loss** on the test data\n",
    "- very similar to the test and validation data\n",
    "- so we can say that there was no overfitting"
   ]
  }
 ],
 "metadata": {
  "kernelspec": {
   "display_name": "Python 3 (ipykernel)",
   "language": "python",
   "name": "python3"
  },
  "language_info": {
   "codemirror_mode": {
    "name": "ipython",
    "version": 3
   },
   "file_extension": ".py",
   "mimetype": "text/x-python",
   "name": "python",
   "nbconvert_exporter": "python",
   "pygments_lexer": "ipython3",
   "version": "3.9.12"
  }
 },
 "nbformat": 4,
 "nbformat_minor": 5
}
