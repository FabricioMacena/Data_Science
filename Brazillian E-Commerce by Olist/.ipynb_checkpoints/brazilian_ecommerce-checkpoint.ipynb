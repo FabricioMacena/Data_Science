{
 "cells": [
  {
   "cell_type": "markdown",
   "id": "a5edda10",
   "metadata": {},
   "source": [
    "# Brazillian E-Commerce by Olyst\n",
    "- **Analysis and visualization of orders (delayed or not) and customer reviews**\n",
    "![](https://zoomentregas.com.br/wp-content/uploads/2021/03/2021-03-17-entrega-no-mesmo-dia.jpg)"
   ]
  },
  {
   "cell_type": "code",
   "execution_count": 1,
   "id": "3285d178",
   "metadata": {},
   "outputs": [],
   "source": [
    "# importing the libraries\n",
    "\n",
    "import pandas as pd\n",
    "import matplotlib.pyplot as plt\n",
    "import numpy as np\n",
    "import seaborn as sns\n",
    "sns.set_theme(style=\"whitegrid\")\n",
    "import sqlite3\n",
    "import datetime as dt\n",
    "from wordcloud import WordCloud"
   ]
  },
  {
   "cell_type": "code",
   "execution_count": 2,
   "id": "aced4fcc",
   "metadata": {},
   "outputs": [],
   "source": [
    "# making a connection with the database\n",
    "\n",
    "conn = sqlite3.connect(\"brazilian_ecommerce_sales.db\")"
   ]
  },
  {
   "cell_type": "code",
   "execution_count": 3,
   "id": "82742f44",
   "metadata": {},
   "outputs": [],
   "source": [
    "cur = conn.cursor()"
   ]
  },
  {
   "cell_type": "code",
   "execution_count": 4,
   "id": "b0f69574",
   "metadata": {},
   "outputs": [],
   "source": [
    "def execute(cod):\n",
    "    '''\n",
    "    cod = code in SQL to query the database\n",
    "    '''\n",
    "    \n",
    "    # returning all rows from the database query\n",
    "    df = cur.execute(cod).fetchall()\n",
    "    \n",
    "    # transforming it into a dataframe \n",
    "    df = pd.DataFrame(df)\n",
    "    \n",
    "    # atribuying the name of columns\n",
    "    if df.shape[1] > 0:\n",
    "        df.columns = [col[0] for col in cur.description]\n",
    "        \n",
    "    # output\n",
    "    return df"
   ]
  },
  {
   "cell_type": "code",
   "execution_count": 5,
   "id": "64e1141a",
   "metadata": {},
   "outputs": [
    {
     "data": {
      "text/html": [
       "<div>\n",
       "<style scoped>\n",
       "    .dataframe tbody tr th:only-of-type {\n",
       "        vertical-align: middle;\n",
       "    }\n",
       "\n",
       "    .dataframe tbody tr th {\n",
       "        vertical-align: top;\n",
       "    }\n",
       "\n",
       "    .dataframe thead th {\n",
       "        text-align: right;\n",
       "    }\n",
       "</style>\n",
       "<table border=\"1\" class=\"dataframe\">\n",
       "  <thead>\n",
       "    <tr style=\"text-align: right;\">\n",
       "      <th></th>\n",
       "    </tr>\n",
       "  </thead>\n",
       "  <tbody>\n",
       "  </tbody>\n",
       "</table>\n",
       "</div>"
      ],
      "text/plain": [
       "Empty DataFrame\n",
       "Columns: []\n",
       "Index: []"
      ]
     },
     "execution_count": 5,
     "metadata": {},
     "output_type": "execute_result"
    }
   ],
   "source": [
    "# checking the name of all tables from the database\n",
    "\n",
    "execute('''\n",
    "        SELECT \n",
    "            name\n",
    "        FROM \n",
    "            sqlite_schema\n",
    "        WHERE type = 'table'\n",
    "        ''')"
   ]
  },
  {
   "cell_type": "markdown",
   "id": "f598c282",
   "metadata": {},
   "source": [
    "### Querying the database"
   ]
  },
  {
   "cell_type": "code",
   "execution_count": 6,
   "id": "1d4984fc",
   "metadata": {},
   "outputs": [
    {
     "ename": "OperationalError",
     "evalue": "no such table: orders",
     "output_type": "error",
     "traceback": [
      "\u001b[1;31m---------------------------------------------------------------------------\u001b[0m",
      "\u001b[1;31mOperationalError\u001b[0m                          Traceback (most recent call last)",
      "Input \u001b[1;32mIn [6]\u001b[0m, in \u001b[0;36m<cell line: 3>\u001b[1;34m()\u001b[0m\n\u001b[0;32m      1\u001b[0m \u001b[38;5;66;03m# orders table\u001b[39;00m\n\u001b[1;32m----> 3\u001b[0m orders \u001b[38;5;241m=\u001b[39m \u001b[43mexecute\u001b[49m\u001b[43m(\u001b[49m\u001b[38;5;124;43m'''\u001b[39;49m\n\u001b[0;32m      4\u001b[0m \u001b[38;5;124;43m        SELECT\u001b[39;49m\n\u001b[0;32m      5\u001b[0m \u001b[38;5;124;43m            *\u001b[39;49m\n\u001b[0;32m      6\u001b[0m \u001b[38;5;124;43m        FROM\u001b[39;49m\n\u001b[0;32m      7\u001b[0m \u001b[38;5;124;43m            orders\u001b[39;49m\n\u001b[0;32m      8\u001b[0m \u001b[38;5;124;43m'''\u001b[39;49m\u001b[43m)\u001b[49m\n\u001b[0;32m     10\u001b[0m orders\u001b[38;5;241m.\u001b[39mhead()\n",
      "Input \u001b[1;32mIn [4]\u001b[0m, in \u001b[0;36mexecute\u001b[1;34m(cod)\u001b[0m\n\u001b[0;32m      2\u001b[0m \u001b[38;5;124;03m'''\u001b[39;00m\n\u001b[0;32m      3\u001b[0m \u001b[38;5;124;03mcod = code in SQL to query the database\u001b[39;00m\n\u001b[0;32m      4\u001b[0m \u001b[38;5;124;03m'''\u001b[39;00m\n\u001b[0;32m      6\u001b[0m \u001b[38;5;66;03m# returning all rows from the database query\u001b[39;00m\n\u001b[1;32m----> 7\u001b[0m df \u001b[38;5;241m=\u001b[39m \u001b[43mcur\u001b[49m\u001b[38;5;241;43m.\u001b[39;49m\u001b[43mexecute\u001b[49m\u001b[43m(\u001b[49m\u001b[43mcod\u001b[49m\u001b[43m)\u001b[49m\u001b[38;5;241m.\u001b[39mfetchall()\n\u001b[0;32m      9\u001b[0m \u001b[38;5;66;03m# transforming it into a dataframe \u001b[39;00m\n\u001b[0;32m     10\u001b[0m df \u001b[38;5;241m=\u001b[39m pd\u001b[38;5;241m.\u001b[39mDataFrame(df)\n",
      "\u001b[1;31mOperationalError\u001b[0m: no such table: orders"
     ]
    }
   ],
   "source": [
    "# orders table\n",
    "\n",
    "orders = execute('''\n",
    "        SELECT\n",
    "            *\n",
    "        FROM\n",
    "            orders\n",
    "''')\n",
    "\n",
    "orders.head()"
   ]
  },
  {
   "cell_type": "code",
   "execution_count": null,
   "id": "c5ec5b72",
   "metadata": {},
   "outputs": [],
   "source": [
    "orders.info()"
   ]
  },
  {
   "cell_type": "code",
   "execution_count": null,
   "id": "1ea41de8",
   "metadata": {},
   "outputs": [],
   "source": [
    "# changing the data type of date columns\n",
    "\n",
    "for col in['order_purchase_timestamp', 'order_approved_at', 'order_delivered_carrier_date', 'order_delivered_customer_date', 'order_estimated_delivery_date']:\n",
    "    orders[col] = pd.to_datetime(orders[col])"
   ]
  },
  {
   "cell_type": "code",
   "execution_count": null,
   "id": "8e61e072",
   "metadata": {},
   "outputs": [],
   "source": [
    "orders.order_delivered_customer_date - orders.order_estimated_delivery_date"
   ]
  },
  {
   "cell_type": "code",
   "execution_count": null,
   "id": "20804e62",
   "metadata": {},
   "outputs": [],
   "source": [
    "# creating a column with the number of days of delivery delay\n",
    "\n",
    "orders['delivery_delay'] = (orders.order_delivered_customer_date - orders.order_estimated_delivery_date).dt.days"
   ]
  },
  {
   "cell_type": "code",
   "execution_count": null,
   "id": "49b343e2",
   "metadata": {},
   "outputs": [],
   "source": [
    "# creating a binary column containing 0 (there was no delay) and 1 (there was delay)\n",
    "\n",
    "orders['delay'] = orders.delivery_delay.apply(lambda row : 0 if row <= 0 else 1)"
   ]
  },
  {
   "cell_type": "code",
   "execution_count": null,
   "id": "1b10407f",
   "metadata": {
    "scrolled": false
   },
   "outputs": [],
   "source": [
    "plt.figure(figsize=(7, 5))\n",
    "sns.countplot(x=orders['delay'], palette=['#3498db', '#ff9f43']);"
   ]
  },
  {
   "cell_type": "code",
   "execution_count": null,
   "id": "147659de",
   "metadata": {
    "scrolled": true
   },
   "outputs": [],
   "source": [
    "# creating a column containing the month and year of delivery\n",
    "\n",
    "orders['month'] = orders.order_purchase_timestamp.dt.to_period('M')"
   ]
  },
  {
   "cell_type": "code",
   "execution_count": null,
   "id": "8e9a62b2",
   "metadata": {},
   "outputs": [],
   "source": [
    "orders.head()"
   ]
  },
  {
   "cell_type": "code",
   "execution_count": null,
   "id": "9a972410",
   "metadata": {
    "scrolled": false
   },
   "outputs": [],
   "source": [
    "# counting the orders in each month\n",
    "\n",
    "orders.groupby('month')['order_id'].count()"
   ]
  },
  {
   "cell_type": "code",
   "execution_count": null,
   "id": "5dc14091",
   "metadata": {
    "scrolled": true
   },
   "outputs": [],
   "source": [
    "orders[orders.month < '2017-01'].head()"
   ]
  },
  {
   "cell_type": "code",
   "execution_count": null,
   "id": "31ab1950",
   "metadata": {},
   "outputs": [],
   "source": [
    "orders[orders.month > '2018-08'].head()"
   ]
  },
  {
   "cell_type": "code",
   "execution_count": null,
   "id": "341c73cc",
   "metadata": {},
   "outputs": [],
   "source": [
    "# dropping these rows\n",
    "\n",
    "orders.drop(orders.index[(orders.month < '2017-01') | (orders.month > '2018-08')], inplace=True)"
   ]
  },
  {
   "cell_type": "markdown",
   "id": "2d6d45a1",
   "metadata": {},
   "source": [
    "**Now we can analyze the delivery delay for each month**"
   ]
  },
  {
   "cell_type": "code",
   "execution_count": null,
   "id": "b3688685",
   "metadata": {
    "scrolled": false
   },
   "outputs": [],
   "source": [
    "# counting the orders in each month again\n",
    "\n",
    "orders_per_month = orders.groupby('month')['delay'].count()\n",
    "orders_per_month"
   ]
  },
  {
   "cell_type": "code",
   "execution_count": null,
   "id": "ce09c1cb",
   "metadata": {},
   "outputs": [],
   "source": [
    "delay_per_month = orders.groupby('month')['delay'].sum()"
   ]
  },
  {
   "cell_type": "code",
   "execution_count": null,
   "id": "3bb53210",
   "metadata": {},
   "outputs": [],
   "source": [
    "fig, ax = plt.subplots(figsize=(14, 7))\n",
    "\n",
    "ax.bar(orders_per_month.index.to_timestamp(), orders_per_month.values, width=20, color='#3498db')\n",
    "ax.bar(delay_per_month.index.to_timestamp(), delay_per_month.values, width=20, color='#ff9f43')\n",
    "\n",
    "ax.set_title('Percentage of late deliveries per month', fontsize=20)\n",
    "ax.set_ylabel('order count', fontsize=15)\n",
    "\n",
    "ax.tick_params(axis='x', labelrotation = 45)\n",
    "\n",
    "for i in range(0, len(delay_per_month)):\n",
    "    ax.annotate(\n",
    "            text= f\"{(delay_per_month[i] * 100) / orders_per_month[i]:.1f}%\",\n",
    "            xy=(delay_per_month.index.to_timestamp()[i], delay_per_month.values[i]),\n",
    "            fontsize=13.5,\n",
    "            ha='center',\n",
    "            va='top',\n",
    "            xytext=(0, 20),\n",
    "            textcoords='offset points'\n",
    "    )\n",
    "\n",
    "plt.show()"
   ]
  },
  {
   "cell_type": "code",
   "execution_count": null,
   "id": "2bcaf209",
   "metadata": {},
   "outputs": [],
   "source": [
    "max_no_delay_month = orders.groupby('month')['delivery_delay'].min()\n",
    "mean_delay_month = orders.groupby('month')['delivery_delay'].mean()\n",
    "max_delay_month = orders.groupby('month')['delivery_delay'].max()"
   ]
  },
  {
   "cell_type": "code",
   "execution_count": null,
   "id": "f4022370",
   "metadata": {
    "scrolled": false
   },
   "outputs": [],
   "source": [
    "fig, ax = plt.subplots(figsize=(15, 7))\n",
    "\n",
    "ax.bar(max_delay_month.index.to_timestamp(), max_delay_month.values, width=17, color='#ff9f43', label='max delay')\n",
    "ax.bar(max_no_delay_month.index.to_timestamp(), max_no_delay_month.values, width=17, color='#3498db', label='min delay')\n",
    "ax.plot(mean_delay_month.index.to_timestamp(), mean_delay_month.values, color='#e83f47', label='mean delay')\n",
    "\n",
    "ax.set_xlabel('month', fontsize=17)\n",
    "ax.set_ylabel('days of delay', fontsize=17)\n",
    "ax.set_title('Max, min and mean delay per month', fontsize=20)\n",
    "\n",
    "plt.legend()\n",
    "plt.show()"
   ]
  },
  {
   "cell_type": "markdown",
   "id": "d90803fc",
   "metadata": {},
   "source": [
    "it is possible to observe that the delay of orders is of such importance, even having absurd values ​​above 100 days of delay"
   ]
  },
  {
   "cell_type": "markdown",
   "id": "4f4b2e79",
   "metadata": {},
   "source": [
    "Now we can analize the table of reviews"
   ]
  },
  {
   "cell_type": "code",
   "execution_count": null,
   "id": "67e330eb",
   "metadata": {},
   "outputs": [],
   "source": [
    "execute('''\n",
    "        SELECT * FROM order_reviews\n",
    "        ''').head()"
   ]
  },
  {
   "cell_type": "code",
   "execution_count": null,
   "id": "f568cd9c",
   "metadata": {
    "scrolled": true
   },
   "outputs": [],
   "source": [
    "# using the INNER JOIN to concatening these tables\n",
    "\n",
    "reviews = execute('''\n",
    "        SELECT\n",
    "            orders.order_id,\n",
    "            order_delivered_customer_date,\n",
    "            order_estimated_delivery_date,\n",
    "            review_score,\n",
    "            review_comment_message\n",
    "        FROM\n",
    "            orders\n",
    "        INNER JOIN order_reviews\n",
    "            ON orders.order_id = order_reviews.order_id\n",
    "        ''')\n",
    "\n",
    "reviews.head()"
   ]
  },
  {
   "cell_type": "code",
   "execution_count": null,
   "id": "39b59e0b",
   "metadata": {},
   "outputs": [],
   "source": [
    "for i in ['order_delivered_customer_date', 'order_estimated_delivery_date']:\n",
    "    reviews[i] = pd.to_datetime(reviews[i])"
   ]
  },
  {
   "cell_type": "code",
   "execution_count": null,
   "id": "854e1510",
   "metadata": {},
   "outputs": [],
   "source": [
    "reviews['delivery_delay'] = (reviews.order_delivered_customer_date - reviews.order_estimated_delivery_date).dt.days"
   ]
  },
  {
   "cell_type": "code",
   "execution_count": null,
   "id": "57c229bb",
   "metadata": {},
   "outputs": [],
   "source": [
    "reviews['delay'] = reviews.delivery_delay.apply(lambda row: 0 if row <= 0 else 1)"
   ]
  },
  {
   "cell_type": "code",
   "execution_count": null,
   "id": "a54feab9",
   "metadata": {},
   "outputs": [],
   "source": [
    "reviews['month'] = reviews.order_delivered_customer_date.dt.to_period('M')"
   ]
  },
  {
   "cell_type": "code",
   "execution_count": null,
   "id": "687650b9",
   "metadata": {},
   "outputs": [],
   "source": [
    "reviews.head()"
   ]
  },
  {
   "cell_type": "code",
   "execution_count": null,
   "id": "f9ff144c",
   "metadata": {
    "scrolled": true
   },
   "outputs": [],
   "source": [
    "reviews.info()"
   ]
  },
  {
   "cell_type": "code",
   "execution_count": null,
   "id": "1d720c95",
   "metadata": {},
   "outputs": [],
   "source": [
    "plt.figure(figsize=(7, 5))\n",
    "\n",
    "plt.title('Average delay days per reviews score', fontsize=14)\n",
    "\n",
    "sns.barplot(data=reviews, x='review_score', y='delivery_delay', palette='ch:s=.25,rot=-.25')\n",
    "plt.show()"
   ]
  },
  {
   "cell_type": "markdown",
   "id": "8c1c216d",
   "metadata": {},
   "source": [
    "the longer the order delivery time, the lower the score."
   ]
  },
  {
   "cell_type": "code",
   "execution_count": null,
   "id": "5407790a",
   "metadata": {
    "scrolled": false
   },
   "outputs": [],
   "source": [
    "delay_0 = reviews[reviews.delay == 0].groupby('review_score')['delay'].count().reset_index()"
   ]
  },
  {
   "cell_type": "code",
   "execution_count": null,
   "id": "b00ee4e2",
   "metadata": {},
   "outputs": [],
   "source": [
    "delay_1 = reviews[reviews.delay == 1].groupby('review_score')['delay'].count().reset_index()"
   ]
  },
  {
   "cell_type": "code",
   "execution_count": null,
   "id": "eaac6833",
   "metadata": {
    "scrolled": false
   },
   "outputs": [],
   "source": [
    "fig, ax = plt.subplots(figsize=(15, 7), ncols=2)\n",
    "\n",
    "colors=['#c7ecee', '#7ed6df', '#22a6b3', '#218c8d', '#3498db']\n",
    "explode=[0.05, 0, 0, 0, 0]\n",
    "\n",
    "ax[0].pie(x=delay_0['delay'].values, labels=delay_0['review_score'], autopct='%1.1f%%',\n",
    "          colors=colors, shadow=True, startangle=90, textprops={'fontsize': 14})\n",
    "ax[1].pie(x=delay_1['delay'].values, labels=delay_1['review_score'], autopct='%1.1f%%',\n",
    "          colors=colors, shadow=True, startangle=90, textprops={'fontsize': 14})\n",
    "\n",
    "ax[0].set_title('Review scores for NOT late orders', fontsize=16)\n",
    "ax[1].set_title('Review scores for late orders', fontsize=16)\n",
    "\n",
    "plt.show()"
   ]
  },
  {
   "cell_type": "markdown",
   "id": "36fd9671",
   "metadata": {},
   "source": [
    "**pie charts confirm order score correlates with order delay**"
   ]
  },
  {
   "cell_type": "code",
   "execution_count": null,
   "id": "fdb8b17c",
   "metadata": {},
   "outputs": [],
   "source": [
    "comments = reviews.loc[(reviews.review_comment_message.notnull()) & (reviews.delay == 1), 'review_comment_message'].values"
   ]
  },
  {
   "cell_type": "code",
   "execution_count": null,
   "id": "5a155da5",
   "metadata": {
    "scrolled": true
   },
   "outputs": [],
   "source": [
    "text = ' '\n",
    "for txt in comments:\n",
    "    text += txt + ' '\n",
    "text = text.replace(',', '').replace('.', '').lower()\n",
    "print(f'there\\'are {len(text)} caracteres the text')"
   ]
  },
  {
   "cell_type": "markdown",
   "id": "952bd5ee",
   "metadata": {},
   "source": [
    "## WordCloud"
   ]
  },
  {
   "cell_type": "code",
   "execution_count": null,
   "id": "c798aa28",
   "metadata": {},
   "outputs": [],
   "source": [
    "wordcloud = WordCloud(background_color='white', max_words=1000).generate(text)\n",
    "\n",
    "plt.figure(figsize=(13, 6))\n",
    "\n",
    "plt.imshow(wordcloud, interpolation='bilinear')\n",
    "plt.axis(\"off\")\n",
    "plt.show()"
   ]
  }
 ],
 "metadata": {
  "kernelspec": {
   "display_name": "Python 3 (ipykernel)",
   "language": "python",
   "name": "python3"
  },
  "language_info": {
   "codemirror_mode": {
    "name": "ipython",
    "version": 3
   },
   "file_extension": ".py",
   "mimetype": "text/x-python",
   "name": "python",
   "nbconvert_exporter": "python",
   "pygments_lexer": "ipython3",
   "version": "3.9.12"
  }
 },
 "nbformat": 4,
 "nbformat_minor": 5
}
