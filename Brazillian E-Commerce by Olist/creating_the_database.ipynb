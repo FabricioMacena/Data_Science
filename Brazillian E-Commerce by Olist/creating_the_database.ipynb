{
 "cells": [
  {
   "cell_type": "markdown",
   "id": "cde153de",
   "metadata": {},
   "source": [
    "# Turning the databases into a SQL database"
   ]
  },
  {
   "cell_type": "code",
   "execution_count": 1,
   "id": "24cd14df",
   "metadata": {},
   "outputs": [],
   "source": [
    "# importing the libraries\n",
    "\n",
    "import pandas as pd\n",
    "import sqlite3\n",
    "import os"
   ]
  },
  {
   "cell_type": "code",
   "execution_count": 2,
   "id": "32ebf205",
   "metadata": {},
   "outputs": [],
   "source": [
    "# taking the path of the folder\n",
    "\n",
    "folder = os.getcwd()"
   ]
  },
  {
   "cell_type": "code",
   "execution_count": 3,
   "id": "ef426f76",
   "metadata": {
    "scrolled": true
   },
   "outputs": [
    {
     "data": {
      "text/plain": [
       "['olist_customers_dataset.csv',\n",
       " 'olist_geolocation_dataset.csv',\n",
       " 'olist_orders_dataset.csv',\n",
       " 'olist_order_items_dataset.csv',\n",
       " 'olist_order_payments_dataset.csv',\n",
       " 'olist_order_reviews_dataset.csv',\n",
       " 'olist_products_dataset.csv',\n",
       " 'olist_sellers_dataset.csv',\n",
       " 'product_category_name_translation.csv']"
      ]
     },
     "execution_count": 3,
     "metadata": {},
     "output_type": "execute_result"
    }
   ],
   "source": [
    "# now, the files\n",
    "\n",
    "files_list = os.listdir(folder + '\\\\files')\n",
    "files_list"
   ]
  },
  {
   "cell_type": "markdown",
   "id": "9602752e",
   "metadata": {},
   "source": [
    "# Using sqlite3"
   ]
  },
  {
   "cell_type": "code",
   "execution_count": 4,
   "id": "51fc8ddf",
   "metadata": {},
   "outputs": [],
   "source": [
    "# creating a connection with the database\n",
    "\n",
    "conn = sqlite3.connect('brazilian_ecommerce_sales.db')"
   ]
  },
  {
   "cell_type": "markdown",
   "id": "36df5aef",
   "metadata": {},
   "source": [
    "#### Now, we must to add all csv's files to db file"
   ]
  },
  {
   "cell_type": "code",
   "execution_count": 5,
   "id": "def18728",
   "metadata": {},
   "outputs": [],
   "source": [
    "for file in files_list:\n",
    "    \n",
    "    # importing all csv's files\n",
    "    df = pd.read_csv(folder + '//files//' + file)\n",
    "    \n",
    "    # name of table\n",
    "    name = file.replace('olist_', '').replace('_dataset', '').replace('.csv', '')\n",
    "    \n",
    "    # adding the tables to the database\n",
    "    df.to_sql(name, conn, if_exists='replace')"
   ]
  },
  {
   "cell_type": "markdown",
   "id": "cd2b7501",
   "metadata": {},
   "source": [
    "- after creating and adding to the database, we can query it\n",
    "- for this, we'll make a function to access de database"
   ]
  },
  {
   "cell_type": "code",
   "execution_count": 6,
   "id": "bd3eb6ce",
   "metadata": {},
   "outputs": [],
   "source": [
    "def execute(cod):\n",
    "    \n",
    "    # creating a cursor\n",
    "    cur = conn.cursor()\n",
    "    \n",
    "    # converting to a dataset\n",
    "    df = cur.execute(cod).fetchall()\n",
    "    df = pd.DataFrame(df)\n",
    "    \n",
    "    # atribuing the name of columns\n",
    "    if df.shape[1] > 0:\n",
    "        df.columns = [col[0] for col in cur.description]\n",
    "        \n",
    "    # output\n",
    "    return df"
   ]
  },
  {
   "cell_type": "code",
   "execution_count": 7,
   "id": "5bd83cc3",
   "metadata": {
    "scrolled": true
   },
   "outputs": [
    {
     "data": {
      "text/html": [
       "<div>\n",
       "<style scoped>\n",
       "    .dataframe tbody tr th:only-of-type {\n",
       "        vertical-align: middle;\n",
       "    }\n",
       "\n",
       "    .dataframe tbody tr th {\n",
       "        vertical-align: top;\n",
       "    }\n",
       "\n",
       "    .dataframe thead th {\n",
       "        text-align: right;\n",
       "    }\n",
       "</style>\n",
       "<table border=\"1\" class=\"dataframe\">\n",
       "  <thead>\n",
       "    <tr style=\"text-align: right;\">\n",
       "      <th></th>\n",
       "      <th>index</th>\n",
       "      <th>customer_id</th>\n",
       "      <th>customer_unique_id</th>\n",
       "      <th>customer_zip_code_prefix</th>\n",
       "      <th>customer_city</th>\n",
       "      <th>customer_state</th>\n",
       "    </tr>\n",
       "  </thead>\n",
       "  <tbody>\n",
       "    <tr>\n",
       "      <th>0</th>\n",
       "      <td>0</td>\n",
       "      <td>06b8999e2fba1a1fbc88172c00ba8bc7</td>\n",
       "      <td>861eff4711a542e4b93843c6dd7febb0</td>\n",
       "      <td>14409</td>\n",
       "      <td>franca</td>\n",
       "      <td>SP</td>\n",
       "    </tr>\n",
       "    <tr>\n",
       "      <th>1</th>\n",
       "      <td>1</td>\n",
       "      <td>18955e83d337fd6b2def6b18a428ac77</td>\n",
       "      <td>290c77bc529b7ac935b93aa66c333dc3</td>\n",
       "      <td>9790</td>\n",
       "      <td>sao bernardo do campo</td>\n",
       "      <td>SP</td>\n",
       "    </tr>\n",
       "    <tr>\n",
       "      <th>2</th>\n",
       "      <td>2</td>\n",
       "      <td>4e7b3e00288586ebd08712fdd0374a03</td>\n",
       "      <td>060e732b5b29e8181a18229c7b0b2b5e</td>\n",
       "      <td>1151</td>\n",
       "      <td>sao paulo</td>\n",
       "      <td>SP</td>\n",
       "    </tr>\n",
       "    <tr>\n",
       "      <th>3</th>\n",
       "      <td>3</td>\n",
       "      <td>b2b6027bc5c5109e529d4dc6358b12c3</td>\n",
       "      <td>259dac757896d24d7702b9acbbff3f3c</td>\n",
       "      <td>8775</td>\n",
       "      <td>mogi das cruzes</td>\n",
       "      <td>SP</td>\n",
       "    </tr>\n",
       "    <tr>\n",
       "      <th>4</th>\n",
       "      <td>4</td>\n",
       "      <td>4f2d8ab171c80ec8364f7c12e35b23ad</td>\n",
       "      <td>345ecd01c38d18a9036ed96c73b8d066</td>\n",
       "      <td>13056</td>\n",
       "      <td>campinas</td>\n",
       "      <td>SP</td>\n",
       "    </tr>\n",
       "  </tbody>\n",
       "</table>\n",
       "</div>"
      ],
      "text/plain": [
       "   index                       customer_id                customer_unique_id  \\\n",
       "0      0  06b8999e2fba1a1fbc88172c00ba8bc7  861eff4711a542e4b93843c6dd7febb0   \n",
       "1      1  18955e83d337fd6b2def6b18a428ac77  290c77bc529b7ac935b93aa66c333dc3   \n",
       "2      2  4e7b3e00288586ebd08712fdd0374a03  060e732b5b29e8181a18229c7b0b2b5e   \n",
       "3      3  b2b6027bc5c5109e529d4dc6358b12c3  259dac757896d24d7702b9acbbff3f3c   \n",
       "4      4  4f2d8ab171c80ec8364f7c12e35b23ad  345ecd01c38d18a9036ed96c73b8d066   \n",
       "\n",
       "   customer_zip_code_prefix          customer_city customer_state  \n",
       "0                     14409                 franca             SP  \n",
       "1                      9790  sao bernardo do campo             SP  \n",
       "2                      1151              sao paulo             SP  \n",
       "3                      8775        mogi das cruzes             SP  \n",
       "4                     13056               campinas             SP  "
      ]
     },
     "execution_count": 7,
     "metadata": {},
     "output_type": "execute_result"
    }
   ],
   "source": [
    "# exemple of sql code\n",
    "\n",
    "execute('''\n",
    "        SELECT\n",
    "            *\n",
    "        FROM\n",
    "            customers\n",
    "        ''').head()"
   ]
  }
 ],
 "metadata": {
  "kernelspec": {
   "display_name": "Python 3 (ipykernel)",
   "language": "python",
   "name": "python3"
  },
  "language_info": {
   "codemirror_mode": {
    "name": "ipython",
    "version": 3
   },
   "file_extension": ".py",
   "mimetype": "text/x-python",
   "name": "python",
   "nbconvert_exporter": "python",
   "pygments_lexer": "ipython3",
   "version": "3.9.12"
  }
 },
 "nbformat": 4,
 "nbformat_minor": 5
}
